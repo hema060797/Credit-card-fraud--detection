{
 "cells": [
  {
   "cell_type": "markdown",
   "metadata": {},
   "source": [
    "# Credit card fraud detection"
   ]
  },
  {
   "cell_type": "markdown",
   "metadata": {},
   "source": [
    "# Context"
   ]
  },
  {
   "cell_type": "markdown",
   "metadata": {},
   "source": [
    "The datasets contains transactions made by credit cards in September 2013 by european cardholders. This dataset presents transactions that occurred in two days, where we have 492 frauds out of 284,807 transactions. The dataset is highly unbalanced, the positive class (frauds) account for 0.172% of all transactions.\n",
    "It contains only numerical input variables which are the result of a PCA transformation. Unfortunately, due to confidentiality issues, we cannot provide the original features and more background information about the data. Features V1, V2, ... V28 are the principal components obtained with PCA, the only features which have not been transformed with PCA are 'Time' and 'Amount'. Feature 'Time' contains the seconds elapsed between each transaction and the first transaction in the dataset. The feature 'Amount' is the transaction Amount, this feature can be used for example-dependant cost-senstive learning. Feature 'Class' is the response variable and it takes value 1 in case of fraud and 0 otherwise."
   ]
  },
  {
   "cell_type": "markdown",
   "metadata": {},
   "source": [
    "# problem statement"
   ]
  },
  {
   "cell_type": "raw",
   "metadata": {},
   "source": [
    "The Credit Card Fraud Detection project is used to identify whether a new transaction is fraudulent or not  by  modeling past credit card transactions with the knowledge of the ones that turned out to be fraud and detecting whether a transaction is a normal payment or a fraud.  Classification techniques are the promising solutions to detect the fraud and non-fraud transactions. "
   ]
  },
  {
   "cell_type": "markdown",
   "metadata": {},
   "source": [
    "# importing libraries"
   ]
  },
  {
   "cell_type": "code",
   "execution_count": 1,
   "metadata": {},
   "outputs": [],
   "source": [
    "#import libraries\n",
    "%matplotlib inline\n",
    "import scipy.stats as stats\n",
    "import numpy as np\n",
    "import pandas as pd\n"
   ]
  },
  {
   "cell_type": "raw",
   "metadata": {},
   "source": [
    "We are using the datasets provided by Kaggle. This data set includes all transactions recorded over the course of two days. As described in the dataset, the features are scaled and the names of the features are not shown due to privacy reasons.\n",
    "can download https://www.kaggle.com/mlg-ulb/creditcardfraud"
   ]
  },
  {
   "cell_type": "markdown",
   "metadata": {},
   "source": [
    "# loading dataset"
   ]
  },
  {
   "cell_type": "code",
   "execution_count": 2,
   "metadata": {},
   "outputs": [],
   "source": [
    "data = pd.read_csv('creditcard.csv')"
   ]
  },
  {
   "cell_type": "code",
   "execution_count": 3,
   "metadata": {},
   "outputs": [
    {
     "name": "stdout",
     "output_type": "stream",
     "text": [
      "<class 'pandas.core.frame.DataFrame'>\n",
      "RangeIndex: 284807 entries, 0 to 284806\n",
      "Data columns (total 31 columns):\n",
      " #   Column  Non-Null Count   Dtype  \n",
      "---  ------  --------------   -----  \n",
      " 0   Time    284807 non-null  float64\n",
      " 1   V1      284807 non-null  float64\n",
      " 2   V2      284807 non-null  float64\n",
      " 3   V3      284807 non-null  float64\n",
      " 4   V4      284807 non-null  float64\n",
      " 5   V5      284807 non-null  float64\n",
      " 6   V6      284807 non-null  float64\n",
      " 7   V7      284807 non-null  float64\n",
      " 8   V8      284807 non-null  float64\n",
      " 9   V9      284807 non-null  float64\n",
      " 10  V10     284807 non-null  float64\n",
      " 11  V11     284807 non-null  float64\n",
      " 12  V12     284807 non-null  float64\n",
      " 13  V13     284807 non-null  float64\n",
      " 14  V14     284807 non-null  float64\n",
      " 15  V15     284807 non-null  float64\n",
      " 16  V16     284807 non-null  float64\n",
      " 17  V17     284807 non-null  float64\n",
      " 18  V18     284807 non-null  float64\n",
      " 19  V19     284807 non-null  float64\n",
      " 20  V20     284807 non-null  float64\n",
      " 21  V21     284807 non-null  float64\n",
      " 22  V22     284807 non-null  float64\n",
      " 23  V23     284807 non-null  float64\n",
      " 24  V24     284807 non-null  float64\n",
      " 25  V25     284807 non-null  float64\n",
      " 26  V26     284807 non-null  float64\n",
      " 27  V27     284807 non-null  float64\n",
      " 28  V28     284807 non-null  float64\n",
      " 29  Amount  284807 non-null  float64\n",
      " 30  Class   284807 non-null  int64  \n",
      "dtypes: float64(30), int64(1)\n",
      "memory usage: 67.4 MB\n",
      "None\n"
     ]
    }
   ],
   "source": [
    "print(data.info())"
   ]
  },
  {
   "cell_type": "markdown",
   "metadata": {},
   "source": [
    "The dataset consists of numerical values from the 28 ‘Principal Component Analysis (PCA)’ transformed features, namely V1 to V28. Furthermore, there is no metadata about the original features provided, so pre-analysis or feature study could not be done."
   ]
  },
  {
   "cell_type": "code",
   "execution_count": 4,
   "metadata": {},
   "outputs": [
    {
     "name": "stdout",
     "output_type": "stream",
     "text": [
      "   Time        V1        V2        V3        V4        V5        V6        V7  \\\n",
      "0   0.0 -1.359807 -0.072781  2.536347  1.378155 -0.338321  0.462388  0.239599   \n",
      "1   0.0  1.191857  0.266151  0.166480  0.448154  0.060018 -0.082361 -0.078803   \n",
      "2   1.0 -1.358354 -1.340163  1.773209  0.379780 -0.503198  1.800499  0.791461   \n",
      "3   1.0 -0.966272 -0.185226  1.792993 -0.863291 -0.010309  1.247203  0.237609   \n",
      "4   2.0 -1.158233  0.877737  1.548718  0.403034 -0.407193  0.095921  0.592941   \n",
      "\n",
      "         V8        V9  ...       V21       V22       V23       V24       V25  \\\n",
      "0  0.098698  0.363787  ... -0.018307  0.277838 -0.110474  0.066928  0.128539   \n",
      "1  0.085102 -0.255425  ... -0.225775 -0.638672  0.101288 -0.339846  0.167170   \n",
      "2  0.247676 -1.514654  ...  0.247998  0.771679  0.909412 -0.689281 -0.327642   \n",
      "3  0.377436 -1.387024  ... -0.108300  0.005274 -0.190321 -1.175575  0.647376   \n",
      "4 -0.270533  0.817739  ... -0.009431  0.798278 -0.137458  0.141267 -0.206010   \n",
      "\n",
      "        V26       V27       V28  Amount  Class  \n",
      "0 -0.189115  0.133558 -0.021053  149.62      0  \n",
      "1  0.125895 -0.008983  0.014724    2.69      0  \n",
      "2 -0.139097 -0.055353 -0.059752  378.66      0  \n",
      "3 -0.221929  0.062723  0.061458  123.50      0  \n",
      "4  0.502292  0.219422  0.215153   69.99      0  \n",
      "\n",
      "[5 rows x 31 columns]\n"
     ]
    }
   ],
   "source": [
    "print(data.head())"
   ]
  },
  {
   "cell_type": "code",
   "execution_count": 5,
   "metadata": {},
   "outputs": [
    {
     "name": "stdout",
     "output_type": "stream",
     "text": [
      "(284807, 31)\n"
     ]
    }
   ],
   "source": [
    "print(data.shape)"
   ]
  },
  {
   "cell_type": "markdown",
   "metadata": {},
   "source": [
    "# Checking for missing value"
   ]
  },
  {
   "cell_type": "code",
   "execution_count": 6,
   "metadata": {},
   "outputs": [
    {
     "name": "stdout",
     "output_type": "stream",
     "text": [
      "False\n",
      "Time      0\n",
      "V1        0\n",
      "V2        0\n",
      "V3        0\n",
      "V4        0\n",
      "V5        0\n",
      "V6        0\n",
      "V7        0\n",
      "V8        0\n",
      "V9        0\n",
      "V10       0\n",
      "V11       0\n",
      "V12       0\n",
      "V13       0\n",
      "V14       0\n",
      "V15       0\n",
      "V16       0\n",
      "V17       0\n",
      "V18       0\n",
      "V19       0\n",
      "V20       0\n",
      "V21       0\n",
      "V22       0\n",
      "V23       0\n",
      "V24       0\n",
      "V25       0\n",
      "V26       0\n",
      "V27       0\n",
      "V28       0\n",
      "Amount    0\n",
      "Class     0\n",
      "dtype: int64\n"
     ]
    }
   ],
   "source": [
    "print(data.isnull().values.any())\n",
    "print(data.isnull().sum())\n"
   ]
  },
  {
   "cell_type": "raw",
   "metadata": {},
   "source": [
    "There is no any null values in the dataset"
   ]
  },
  {
   "cell_type": "code",
   "execution_count": 7,
   "metadata": {},
   "outputs": [],
   "source": [
    "fraud = data[data['Class'] == 1] \n",
    "valid = data[data['Class'] == 0]"
   ]
  },
  {
   "cell_type": "code",
   "execution_count": 8,
   "metadata": {},
   "outputs": [
    {
     "name": "stdout",
     "output_type": "stream",
     "text": [
      "(492, 31) (284315, 31)\n"
     ]
    }
   ],
   "source": [
    "print(fraud.shape,valid.shape)"
   ]
  },
  {
   "cell_type": "raw",
   "metadata": {},
   "source": [
    "most of the transactions are non fraud therefore if we use this dataframe as the base then for our predictive model and for further analysis we might get lot of errors and probably it overfit ,since it will assumes that most transactions are not fraud \n",
    "the dataset is highly skewed consiting 492 frauds total of 2,84,807 observations "
   ]
  },
  {
   "cell_type": "raw",
   "metadata": {},
   "source": [
    "Thus we have the data,now we are using only 3 attributes for now to train our model (Time,Amount,class)"
   ]
  },
  {
   "cell_type": "markdown",
   "metadata": {},
   "source": [
    "# Splitting dependent and independent variable"
   ]
  },
  {
   "cell_type": "raw",
   "metadata": {},
   "source": [
    "Class is dependent variable and amount,time is independent variable based on amount and time we are going to predict/classify the class ,to which class its belongs"
   ]
  },
  {
   "cell_type": "code",
   "execution_count": 10,
   "metadata": {},
   "outputs": [
    {
     "name": "stdout",
     "output_type": "stream",
     "text": [
      "(284807, 2)\n",
      "(284807,)\n"
     ]
    }
   ],
   "source": [
    "# dividing dependent and independent variable from the dataset \n",
    "x = data[['Time','Amount']]\n",
    "y = data[\"Class\"] \n",
    "print(x.shape) \n",
    "print(y.shape) \n",
    "# (its a numpy array with no columns) \n",
    "X = x.values \n",
    "Y = y.values "
   ]
  },
  {
   "cell_type": "raw",
   "metadata": {},
   "source": [
    "We are using 80% data on training & 20% data on testing"
   ]
  },
  {
   "cell_type": "markdown",
   "metadata": {},
   "source": [
    "# model building"
   ]
  },
  {
   "cell_type": "code",
   "execution_count": 13,
   "metadata": {},
   "outputs": [],
   "source": [
    "# Using Skicit-learn to split data into training and testing sets \n",
    "from sklearn.model_selection import train_test_split \n",
    "# Split the data into training and testing sets \n",
    "Xtrain, Xtest, Ytrain, Ytest = train_test_split( \n",
    "        X,Y, test_size = 0.2, random_state = 40)"
   ]
  },
  {
   "cell_type": "code",
   "execution_count": 14,
   "metadata": {},
   "outputs": [
    {
     "name": "stdout",
     "output_type": "stream",
     "text": [
      "[[56836    29]\n",
      " [   83    14]] 0.9980337769039008\n",
      "              precision    recall  f1-score   support\n",
      "\n",
      "           0       1.00      1.00      1.00     56865\n",
      "           1       0.33      0.14      0.20        97\n",
      "\n",
      "    accuracy                           1.00     56962\n",
      "   macro avg       0.66      0.57      0.60     56962\n",
      "weighted avg       1.00      1.00      1.00     56962\n",
      "\n"
     ]
    }
   ],
   "source": [
    "from sklearn.ensemble import RandomForestClassifier \n",
    "# random forest model creation \n",
    "rfc = RandomForestClassifier() \n",
    "rfc.fit(Xtrain, Ytrain) \n",
    "# predictions \n",
    "ypred = rfc.predict(Xtest) \n",
    "from sklearn.metrics import classification_report,confusion_matrix,accuracy_score\n",
    "conf_matrix=confusion_matrix(Ytest,ypred)\n",
    "accuracy=accuracy_score(Ytest,ypred)\n",
    "print(conf_matrix,accuracy)\n",
    "print(classification_report(Ytest,ypred))"
   ]
  },
  {
   "cell_type": "markdown",
   "metadata": {},
   "source": [
    "# Naive bayes"
   ]
  },
  {
   "cell_type": "code",
   "execution_count": 15,
   "metadata": {},
   "outputs": [
    {
     "name": "stdout",
     "output_type": "stream",
     "text": [
      "[[56865     0]\n",
      " [   97     0]] 0.9982971103542713\n",
      "              precision    recall  f1-score   support\n",
      "\n",
      "           0       1.00      1.00      1.00     56865\n",
      "           1       0.00      0.00      0.00        97\n",
      "\n",
      "    accuracy                           1.00     56962\n",
      "   macro avg       0.50      0.50      0.50     56962\n",
      "weighted avg       1.00      1.00      1.00     56962\n",
      "\n"
     ]
    },
    {
     "name": "stderr",
     "output_type": "stream",
     "text": [
      "C:\\Users\\Lenovo\\anaconda3\\lib\\site-packages\\sklearn\\metrics\\_classification.py:1268: UndefinedMetricWarning: Precision and F-score are ill-defined and being set to 0.0 in labels with no predicted samples. Use `zero_division` parameter to control this behavior.\n",
      "  _warn_prf(average, modifier, msg_start, len(result))\n"
     ]
    }
   ],
   "source": [
    "from sklearn.naive_bayes import GaussianNB \n",
    "gnb = GaussianNB()\n",
    "gnb.fit(Xtrain, Ytrain)\n",
    "ypred1=gnb.predict(Xtest)\n",
    "from sklearn.metrics import classification_report,confusion_matrix,accuracy_score\n",
    "conf_matrix=confusion_matrix(Ytest,ypred1)\n",
    "accuracy=accuracy_score(Ytest,ypred1)\n",
    "print(conf_matrix,accuracy)\n",
    "print(classification_report(Ytest,ypred1))\n"
   ]
  },
  {
   "cell_type": "markdown",
   "metadata": {},
   "source": [
    "# DummyClassifier"
   ]
  },
  {
   "cell_type": "code",
   "execution_count": 16,
   "metadata": {},
   "outputs": [
    {
     "name": "stdout",
     "output_type": "stream",
     "text": [
      "[[56761   104]\n",
      " [   97     0]] 0.9964713317650363\n",
      "              precision    recall  f1-score   support\n",
      "\n",
      "           0       1.00      1.00      1.00     56865\n",
      "           1       0.00      0.00      0.00        97\n",
      "\n",
      "    accuracy                           1.00     56962\n",
      "   macro avg       0.50      0.50      0.50     56962\n",
      "weighted avg       1.00      1.00      1.00     56962\n",
      "\n"
     ]
    },
    {
     "name": "stderr",
     "output_type": "stream",
     "text": [
      "C:\\Users\\Lenovo\\anaconda3\\lib\\site-packages\\sklearn\\dummy.py:132: FutureWarning: The default value of strategy will change from stratified to prior in 0.24.\n",
      "  \"stratified to prior in 0.24.\", FutureWarning)\n"
     ]
    }
   ],
   "source": [
    "from sklearn.dummy import DummyClassifier\n",
    "dummy = DummyClassifier()\n",
    "dummy.fit(Xtrain, Ytrain)\n",
    "ypred2=dummy.predict(Xtest)\n",
    "from sklearn.metrics import classification_report,confusion_matrix,accuracy_score\n",
    "conf_matrix=confusion_matrix(Ytest,ypred2)\n",
    "accuracy=accuracy_score(Ytest,ypred2)\n",
    "print(conf_matrix,accuracy)\n",
    "print(classification_report(Ytest,ypred2))\n"
   ]
  },
  {
   "cell_type": "markdown",
   "metadata": {},
   "source": [
    "# Support vector classifier"
   ]
  },
  {
   "cell_type": "code",
   "execution_count": 17,
   "metadata": {},
   "outputs": [
    {
     "name": "stdout",
     "output_type": "stream",
     "text": [
      "[[56865     0]\n",
      " [   97     0]] 0.9982971103542713\n",
      "              precision    recall  f1-score   support\n",
      "\n",
      "           0       1.00      1.00      1.00     56865\n",
      "           1       0.00      0.00      0.00        97\n",
      "\n",
      "    accuracy                           1.00     56962\n",
      "   macro avg       0.50      0.50      0.50     56962\n",
      "weighted avg       1.00      1.00      1.00     56962\n",
      "\n"
     ]
    },
    {
     "name": "stderr",
     "output_type": "stream",
     "text": [
      "C:\\Users\\Lenovo\\anaconda3\\lib\\site-packages\\sklearn\\metrics\\_classification.py:1268: UndefinedMetricWarning: Precision and F-score are ill-defined and being set to 0.0 in labels with no predicted samples. Use `zero_division` parameter to control this behavior.\n",
      "  _warn_prf(average, modifier, msg_start, len(result))\n"
     ]
    }
   ],
   "source": [
    "from sklearn.svm import SVC\n",
    "svm = SVC()\n",
    "svm.fit(Xtrain,Ytrain)\n",
    "ypred3=svm.predict(Xtest)\n",
    "from sklearn.metrics import classification_report,confusion_matrix,accuracy_score\n",
    "conf_matrix=confusion_matrix(Ytest,ypred3)\n",
    "accuracy=accuracy_score(Ytest,ypred3)\n",
    "print(conf_matrix,accuracy)\n",
    "print(classification_report(Ytest,ypred3))\n"
   ]
  },
  {
   "cell_type": "raw",
   "metadata": {},
   "source": [
    "Since over 99% of our transactions are non-fraudulent, an algorithm that always predicts that the transaction is non-fraudulent would achieve an accuracy higher than 99%. Owing to such imbalance in data, an algorithm that does not do any feature analysis and predicts all the transactions as non-frauds will also achieve an accuracy of 99.829% (SVM). Therefore, accuracy is not a correct measure of efficiency in our case."
   ]
  },
  {
   "cell_type": "code",
   "execution_count": 18,
   "metadata": {},
   "outputs": [
    {
     "name": "stdout",
     "output_type": "stream",
     "text": [
      "(492, 31)\n"
     ]
    }
   ],
   "source": [
    "print(fraud.shape)"
   ]
  },
  {
   "cell_type": "raw",
   "metadata": {},
   "source": [
    "To create our balanced training data set, We calculated all of the fraudulent transactions in our data set . Then, We randomly selected the same number of non-fraudulent transactions and concatenated the two. There are 492 cases of fraud in our dataset so we can randomly get 492 cases of non-fraud to create our new sub dataframe."
   ]
  },
  {
   "cell_type": "code",
   "execution_count": 19,
   "metadata": {},
   "outputs": [
    {
     "data": {
      "text/html": [
       "<div>\n",
       "<style scoped>\n",
       "    .dataframe tbody tr th:only-of-type {\n",
       "        vertical-align: middle;\n",
       "    }\n",
       "\n",
       "    .dataframe tbody tr th {\n",
       "        vertical-align: top;\n",
       "    }\n",
       "\n",
       "    .dataframe thead th {\n",
       "        text-align: right;\n",
       "    }\n",
       "</style>\n",
       "<table border=\"1\" class=\"dataframe\">\n",
       "  <thead>\n",
       "    <tr style=\"text-align: right;\">\n",
       "      <th></th>\n",
       "      <th>Time</th>\n",
       "      <th>V1</th>\n",
       "      <th>V2</th>\n",
       "      <th>V3</th>\n",
       "      <th>V4</th>\n",
       "      <th>V5</th>\n",
       "      <th>V6</th>\n",
       "      <th>V7</th>\n",
       "      <th>V8</th>\n",
       "      <th>V9</th>\n",
       "      <th>...</th>\n",
       "      <th>V21</th>\n",
       "      <th>V22</th>\n",
       "      <th>V23</th>\n",
       "      <th>V24</th>\n",
       "      <th>V25</th>\n",
       "      <th>V26</th>\n",
       "      <th>V27</th>\n",
       "      <th>V28</th>\n",
       "      <th>Amount</th>\n",
       "      <th>Class</th>\n",
       "    </tr>\n",
       "  </thead>\n",
       "  <tbody>\n",
       "    <tr>\n",
       "      <th>264098</th>\n",
       "      <td>161265.0</td>\n",
       "      <td>0.088637</td>\n",
       "      <td>0.818552</td>\n",
       "      <td>-0.005617</td>\n",
       "      <td>-0.742745</td>\n",
       "      <td>0.708713</td>\n",
       "      <td>-0.734212</td>\n",
       "      <td>0.984081</td>\n",
       "      <td>-0.146136</td>\n",
       "      <td>0.049841</td>\n",
       "      <td>...</td>\n",
       "      <td>-0.308203</td>\n",
       "      <td>-0.724620</td>\n",
       "      <td>-0.006447</td>\n",
       "      <td>-0.670556</td>\n",
       "      <td>-0.406731</td>\n",
       "      <td>0.182126</td>\n",
       "      <td>0.243390</td>\n",
       "      <td>0.089906</td>\n",
       "      <td>5.49</td>\n",
       "      <td>0</td>\n",
       "    </tr>\n",
       "    <tr>\n",
       "      <th>79883</th>\n",
       "      <td>58222.0</td>\n",
       "      <td>-1.322789</td>\n",
       "      <td>1.552768</td>\n",
       "      <td>-2.276921</td>\n",
       "      <td>2.992117</td>\n",
       "      <td>-1.947064</td>\n",
       "      <td>-0.480288</td>\n",
       "      <td>-1.362388</td>\n",
       "      <td>0.953242</td>\n",
       "      <td>-2.329629</td>\n",
       "      <td>...</td>\n",
       "      <td>0.614969</td>\n",
       "      <td>-0.195200</td>\n",
       "      <td>0.590711</td>\n",
       "      <td>-0.233378</td>\n",
       "      <td>-0.164285</td>\n",
       "      <td>-0.277498</td>\n",
       "      <td>0.428610</td>\n",
       "      <td>0.246394</td>\n",
       "      <td>270.00</td>\n",
       "      <td>1</td>\n",
       "    </tr>\n",
       "    <tr>\n",
       "      <th>200405</th>\n",
       "      <td>133423.0</td>\n",
       "      <td>1.744979</td>\n",
       "      <td>-0.527634</td>\n",
       "      <td>-3.003229</td>\n",
       "      <td>0.213030</td>\n",
       "      <td>1.045598</td>\n",
       "      <td>-0.687625</td>\n",
       "      <td>1.101537</td>\n",
       "      <td>-0.401025</td>\n",
       "      <td>-0.068283</td>\n",
       "      <td>...</td>\n",
       "      <td>0.421439</td>\n",
       "      <td>0.882281</td>\n",
       "      <td>-0.424463</td>\n",
       "      <td>0.201832</td>\n",
       "      <td>0.773256</td>\n",
       "      <td>0.088724</td>\n",
       "      <td>-0.126212</td>\n",
       "      <td>-0.061178</td>\n",
       "      <td>204.79</td>\n",
       "      <td>0</td>\n",
       "    </tr>\n",
       "    <tr>\n",
       "      <th>140786</th>\n",
       "      <td>83934.0</td>\n",
       "      <td>-0.433222</td>\n",
       "      <td>2.428379</td>\n",
       "      <td>-3.996454</td>\n",
       "      <td>4.871299</td>\n",
       "      <td>-1.796308</td>\n",
       "      <td>-0.586868</td>\n",
       "      <td>-4.654543</td>\n",
       "      <td>1.285230</td>\n",
       "      <td>-2.743539</td>\n",
       "      <td>...</td>\n",
       "      <td>0.713559</td>\n",
       "      <td>-0.408954</td>\n",
       "      <td>-0.320890</td>\n",
       "      <td>-0.804230</td>\n",
       "      <td>0.962852</td>\n",
       "      <td>0.199558</td>\n",
       "      <td>1.094533</td>\n",
       "      <td>0.541148</td>\n",
       "      <td>1.00</td>\n",
       "      <td>1</td>\n",
       "    </tr>\n",
       "    <tr>\n",
       "      <th>6108</th>\n",
       "      <td>6986.0</td>\n",
       "      <td>-4.397974</td>\n",
       "      <td>1.358367</td>\n",
       "      <td>-2.592844</td>\n",
       "      <td>2.679787</td>\n",
       "      <td>-1.128131</td>\n",
       "      <td>-1.706536</td>\n",
       "      <td>-3.496197</td>\n",
       "      <td>-0.248778</td>\n",
       "      <td>-0.247768</td>\n",
       "      <td>...</td>\n",
       "      <td>0.573574</td>\n",
       "      <td>0.176968</td>\n",
       "      <td>-0.436207</td>\n",
       "      <td>-0.053502</td>\n",
       "      <td>0.252405</td>\n",
       "      <td>-0.657488</td>\n",
       "      <td>-0.827136</td>\n",
       "      <td>0.849573</td>\n",
       "      <td>59.00</td>\n",
       "      <td>1</td>\n",
       "    </tr>\n",
       "  </tbody>\n",
       "</table>\n",
       "<p>5 rows × 31 columns</p>\n",
       "</div>"
      ],
      "text/plain": [
       "            Time        V1        V2        V3        V4        V5        V6  \\\n",
       "264098  161265.0  0.088637  0.818552 -0.005617 -0.742745  0.708713 -0.734212   \n",
       "79883    58222.0 -1.322789  1.552768 -2.276921  2.992117 -1.947064 -0.480288   \n",
       "200405  133423.0  1.744979 -0.527634 -3.003229  0.213030  1.045598 -0.687625   \n",
       "140786   83934.0 -0.433222  2.428379 -3.996454  4.871299 -1.796308 -0.586868   \n",
       "6108      6986.0 -4.397974  1.358367 -2.592844  2.679787 -1.128131 -1.706536   \n",
       "\n",
       "              V7        V8        V9  ...       V21       V22       V23  \\\n",
       "264098  0.984081 -0.146136  0.049841  ... -0.308203 -0.724620 -0.006447   \n",
       "79883  -1.362388  0.953242 -2.329629  ...  0.614969 -0.195200  0.590711   \n",
       "200405  1.101537 -0.401025 -0.068283  ...  0.421439  0.882281 -0.424463   \n",
       "140786 -4.654543  1.285230 -2.743539  ...  0.713559 -0.408954 -0.320890   \n",
       "6108   -3.496197 -0.248778 -0.247768  ...  0.573574  0.176968 -0.436207   \n",
       "\n",
       "             V24       V25       V26       V27       V28  Amount  Class  \n",
       "264098 -0.670556 -0.406731  0.182126  0.243390  0.089906    5.49      0  \n",
       "79883  -0.233378 -0.164285 -0.277498  0.428610  0.246394  270.00      1  \n",
       "200405  0.201832  0.773256  0.088724 -0.126212 -0.061178  204.79      0  \n",
       "140786 -0.804230  0.962852  0.199558  1.094533  0.541148    1.00      1  \n",
       "6108   -0.053502  0.252405 -0.657488 -0.827136  0.849573   59.00      1  \n",
       "\n",
       "[5 rows x 31 columns]"
      ]
     },
     "execution_count": 19,
     "metadata": {},
     "output_type": "execute_result"
    }
   ],
   "source": [
    "# Lets shuffle the data before creating the subsamples\n",
    "\n",
    "data1 = data.sample(frac=1)\n",
    "\n",
    "# amount of fraud classes 492 rows.\n",
    "fraud_data1 = data1.loc[data1['Class'] == 1]\n",
    "non_fraud_data1 = data1.loc[data1['Class'] == 0][:492]\n",
    "\n",
    "normal_distributed_data1 = pd.concat([fraud_data1, non_fraud_data1])\n",
    "\n",
    "# Shuffle dataframe rows\n",
    "new_data1 = normal_distributed_data1.sample(frac=1, random_state=42)\n",
    "\n",
    "new_data1.head()"
   ]
  },
  {
   "cell_type": "raw",
   "metadata": {},
   "source": [
    "Down-Sizing is down-sizing method, closely related to the over-sampling method, that was considered\n",
    "in this category (rand_downsize) consists of eliminating, at random, elements of the over-sized class until it\n",
    "matches the size of the other class."
   ]
  },
  {
   "cell_type": "code",
   "execution_count": 20,
   "metadata": {},
   "outputs": [
    {
     "name": "stdout",
     "output_type": "stream",
     "text": [
      "Distribution of the Classes in the subsample dataset\n",
      "1    0.5\n",
      "0    0.5\n",
      "Name: Class, dtype: float64\n"
     ]
    },
    {
     "data": {
      "image/png": "[encoded data removed]",
      "text/plain": [
       "<Figure size 432x288 with 1 Axes>"
      ]
     },
     "metadata": {
      "needs_background": "light"
     },
     "output_type": "display_data"
    }
   ],
   "source": [
    "print('Distribution of the Classes in the subsample dataset')\n",
    "print(new_data1['Class'].value_counts()/len(new_data1))\n",
    "\n",
    "\n",
    "import seaborn as sns\n",
    "import matplotlib.pyplot as plt\n",
    "sns.countplot('Class', data=new_data1)\n",
    "plt.title('Equally Distributed Classes', fontsize=14)\n",
    "plt.show()"
   ]
  },
  {
   "cell_type": "code",
   "execution_count": 21,
   "metadata": {},
   "outputs": [
    {
     "name": "stdout",
     "output_type": "stream",
     "text": [
      "(984, 2)\n",
      "(984,)\n"
     ]
    }
   ],
   "source": [
    "# dividing the X and the Y from the dataset \n",
    "#X = data.drop(['Class'], axis = 1)\n",
    "X = new_data1[['Time','Amount']]\n",
    "Y = new_data1[\"Class\"] \n",
    "print(X.shape) \n",
    "print(Y.shape) \n",
    "# getting just the values for the sake of processing  \n",
    "# (its a numpy array with no columns) \n",
    "x = X.values \n",
    "y = Y.values "
   ]
  },
  {
   "cell_type": "code",
   "execution_count": 22,
   "metadata": {},
   "outputs": [],
   "source": [
    "# Using Skicit-learn to split data into training and testing sets \n",
    "from sklearn.model_selection import train_test_split \n",
    "# Split the data into training and testing sets \n",
    "xTrain, xTest, yTrain, yTest = train_test_split( \n",
    "        x, y, test_size = 0.2, random_state = 40)"
   ]
  },
  {
   "cell_type": "code",
   "execution_count": 23,
   "metadata": {},
   "outputs": [
    {
     "name": "stdout",
     "output_type": "stream",
     "text": [
      "[[75 20]\n",
      " [29 73]] 0.751269035532995\n",
      "              precision    recall  f1-score   support\n",
      "\n",
      "           0       0.72      0.79      0.75        95\n",
      "           1       0.78      0.72      0.75       102\n",
      "\n",
      "    accuracy                           0.75       197\n",
      "   macro avg       0.75      0.75      0.75       197\n",
      "weighted avg       0.75      0.75      0.75       197\n",
      "\n"
     ]
    }
   ],
   "source": [
    "from sklearn.ensemble import RandomForestClassifier \n",
    "# random forest model creation \n",
    "rfcl = RandomForestClassifier() \n",
    "rfcl.fit(xTrain, yTrain) \n",
    "# predictions \n",
    "yPred4= rfcl.predict(xTest) \n",
    "from sklearn.metrics import classification_report,confusion_matrix,accuracy_score\n",
    "conf_matrix=confusion_matrix(yTest,yPred4)\n",
    "accuracy=accuracy_score(yTest,yPred4)\n",
    "print(conf_matrix,accuracy)\n",
    "print(classification_report(yTest,yPred4))"
   ]
  },
  {
   "cell_type": "raw",
   "metadata": {},
   "source": []
  },
  {
   "cell_type": "raw",
   "metadata": {},
   "source": []
  }
 ],
 "metadata": {
  "kernelspec": {
   "display_name": "Python 3",
   "language": "python",
   "name": "python3"
  },
  "language_info": {
   "codemirror_mode": {
    "name": "ipython",
    "version": 3
   },
   "file_extension": ".py",
   "mimetype": "text/x-python",
   "name": "python",
   "nbconvert_exporter": "python",
   "pygments_lexer": "ipython3",
   "version": "3.7.6"
  }
 },
 "nbformat": 4,
 "nbformat_minor": 4
}
